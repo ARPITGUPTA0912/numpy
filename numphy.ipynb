{
 "cells": [
  {
   "cell_type": "code",
   "execution_count": 42,
   "metadata": {},
   "outputs": [
    {
     "name": "stdout",
     "output_type": "stream",
     "text": [
      "Q1. Is there any difference in the data type of variables list_ and array_list? If there is then write a\n",
      "code cto print the data types of both the variables.\n",
      "yes both are different because both has different functions\n",
      "<class 'list'>\n",
      "<class 'numpy.ndarray'>\n"
     ]
    }
   ],
   "source": [
    "\n",
    "import numpy as np\n",
    "list_ = [ 1 , 2 , '3' , 4 , '5' ]\n",
    "array_list = np.array(object = list_)\n",
    "q1='''Q1. Is there any difference in the data type of variables list_ and array_list? If there is then write a\n",
    "code cto print the data types of both the variables.'''\n",
    "print(q1)\n",
    "ans1 = 'yes both are different because both has different functions'\n",
    "print(ans1)\n",
    "print(type(list_))\n",
    "print(type(array_list))\n"
   ]
  },
  {
   "cell_type": "code",
   "execution_count": 43,
   "metadata": {},
   "outputs": [
    {
     "name": "stdout",
     "output_type": "stream",
     "text": [
      "data type of : 1 in list :  <class 'int'>\n",
      "data type of : 2 in list :  <class 'int'>\n",
      "data type of : 3 in list :  <class 'str'>\n",
      "data type of : 4 in list :  <class 'int'>\n",
      "data type of : 5 in list :  <class 'str'>\n",
      "data type of : 1 in array_list :  <class 'numpy.str_'>\n",
      "data type of : 2 in array_list :  <class 'numpy.str_'>\n",
      "data type of : 3 in array_list :  <class 'numpy.str_'>\n",
      "data type of : 4 in array_list :  <class 'numpy.str_'>\n",
      "data type of : 5 in array_list :  <class 'numpy.str_'>\n"
     ]
    }
   ],
   "source": [
    "q2='''Q2. Write a code to print the data type of each and every element of both the variables list_ and\n",
    "arra_list.'''\n",
    "for i in list_:\n",
    "    print(\"data type of :\",i,'in list : ', type(i))\n",
    "for i in array_list:\n",
    "    print(\"data type of :\",i, \"in array_list : \" , type(i))\n",
    "\n"
   ]
  },
  {
   "cell_type": "code",
   "execution_count": 44,
   "metadata": {},
   "outputs": [
    {
     "name": "stdout",
     "output_type": "stream",
     "text": [
      "Q3. Considering the following changes in the variable, array_list:\n",
      "array_list = np.array(object = list_, dtype = int)\n",
      "Will there be any difference in the data type of the elements present in both the variables, list_ and\n",
      "arra_list? If so then print the data types of each and every element present in both the variables, list_\n",
      "and arra_list.\n",
      "\n",
      "data type of : 1 in list :  <class 'int'>\n",
      "data type of : 2 in list :  <class 'int'>\n",
      "data type of : 3 in list :  <class 'str'>\n",
      "data type of : 4 in list :  <class 'int'>\n",
      "data type of : 5 in list :  <class 'str'>\n",
      "\n",
      "data type of : 1 in array_list :  <class 'numpy.int32'>\n",
      "data type of : 2 in array_list :  <class 'numpy.int32'>\n",
      "data type of : 3 in array_list :  <class 'numpy.int32'>\n",
      "data type of : 4 in array_list :  <class 'numpy.int32'>\n",
      "data type of : 5 in array_list :  <class 'numpy.int32'>\n"
     ]
    }
   ],
   "source": [
    "q3='''Q3. Considering the following changes in the variable, array_list:\n",
    "array_list = np.array(object = list_, dtype = int)\n",
    "Will there be any difference in the data type of the elements present in both the variables, list_ and\n",
    "arra_list? If so then print the data types of each and every element present in both the variables, list_\n",
    "and arra_list.'''\n",
    "\n",
    "print(q3)\n",
    "print()\n",
    "array_list = np.array(object = list_, dtype = int)\n",
    "for i in list_:\n",
    "    print(\"data type of :\",i,'in list : ', type(i))\n",
    "print()\n",
    "for i in array_list:\n",
    "    print(\"data type of :\",i, \"in array_list : \" , type(i))\n"
   ]
  },
  {
   "cell_type": "code",
   "execution_count": 45,
   "metadata": {},
   "outputs": [
    {
     "name": "stdout",
     "output_type": "stream",
     "text": [
      "shape of num_array :  (2, 3)\n",
      "size of num_array :  6\n"
     ]
    }
   ],
   "source": [
    "q4='''Consider the below code to answer further questions:\n",
    "import numpy as np\n",
    "num_list = [ [ 1 , 2 , 3 ] , [ 4 , 5 , 6 ] ]\n",
    "num_array = np.array(object = num_list)\n",
    "Q4. Write a code to find the following characteristics of variable, num_array:\n",
    "(i) shape\n",
    "(ii) size'''\n",
    "num_list = [ [ 1 , 2 , 3 ] , [ 4 , 5 , 6 ] ]\n",
    "num_array = np.array(object = num_list)\n",
    "print('shape of num_array : ',num_array.shape)\n",
    "print('size of num_array : ',num_array.size)"
   ]
  },
  {
   "cell_type": "code",
   "execution_count": 50,
   "metadata": {},
   "outputs": [
    {
     "name": "stdout",
     "output_type": "stream",
     "text": [
      "[[0. 0. 0.]\n",
      " [0. 0. 0.]\n",
      " [0. 0. 0.]]\n"
     ]
    }
   ],
   "source": [
    "q5='''Q5. Write a code to create numpy array of 3*3 matrix containing zeros only, using a numpy array\n",
    "creation function.'''\n",
    "npzero=np.zeros((3,3))\n",
    "print(npzero)"
   ]
  },
  {
   "cell_type": "code",
   "execution_count": 52,
   "metadata": {},
   "outputs": [
    {
     "name": "stdout",
     "output_type": "stream",
     "text": [
      "[[1. 0. 0. 0. 0.]\n",
      " [0. 1. 0. 0. 0.]\n",
      " [0. 0. 1. 0. 0.]\n",
      " [0. 0. 0. 1. 0.]\n",
      " [0. 0. 0. 0. 1.]]\n"
     ]
    }
   ],
   "source": [
    "q6='Q6. Create an identity matrix of shape (5,5) using numpy functions?'\n",
    "identity_matrix = np.eye(5)\n",
    "print(identity_matrix)"
   ]
  },
  {
   "cell_type": "code",
   "execution_count": null,
   "metadata": {},
   "outputs": [],
   "source": []
  }
 ],
 "metadata": {
  "kernelspec": {
   "display_name": "base",
   "language": "python",
   "name": "python3"
  },
  "language_info": {
   "codemirror_mode": {
    "name": "ipython",
    "version": 3
   },
   "file_extension": ".py",
   "mimetype": "text/x-python",
   "name": "python",
   "nbconvert_exporter": "python",
   "pygments_lexer": "ipython3",
   "version": "3.9.13"
  },
  "orig_nbformat": 4
 },
 "nbformat": 4,
 "nbformat_minor": 2
}
